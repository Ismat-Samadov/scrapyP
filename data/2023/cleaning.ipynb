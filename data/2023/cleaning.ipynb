{
 "cells": [
  {
   "cell_type": "markdown",
   "id": "7c870b3e-f48a-4a32-8667-8851ed4489c3",
   "metadata": {},
   "source": [
    "## arenda.az"
   ]
  },
  {
   "cell_type": "code",
   "execution_count": 51,
   "id": "fca68949-6f75-4de1-bcb2-4d579bb72578",
   "metadata": {},
   "outputs": [],
   "source": [
    "import pandas as pd\n",
    "arenda = pd.read_csv('arenda.csv')\n",
    "arenda['phone_cleaned'] = arenda['phone'].str.split(',')\n",
    "arenda = arenda.explode('phone_cleaned', ignore_index=True)\n",
    "arenda['phone_cleaned'] = arenda['phone_cleaned'].str.replace(r'\\D', '', regex=True)\n",
    "arenda\n",
    "\n",
    "arenda.to_excel('arenda.xlsx', engine='xlsxwriter')"
   ]
  },
  {
   "cell_type": "markdown",
   "id": "f494435a-83a9-4b04-bf39-66e68a2db0e9",
   "metadata": {},
   "source": [
    "## birja.com"
   ]
  },
  {
   "cell_type": "code",
   "execution_count": 52,
   "id": "6c753b03-ad13-4f88-986e-50b1e41ab14b",
   "metadata": {},
   "outputs": [],
   "source": [
    "import pandas as pd\n",
    "birjacom = pd.read_csv('birjacom.csv')\n",
    "# birjacom['Phone'].str.len().sort_values(ascending=False)\n",
    "birjacom.dropna(subset=['Phone'], inplace=True)\n",
    "birjacom['phone_cleaned'] = birjacom['Phone'].str.replace(r'\\D', '', regex=True)\n",
    "birjacom\n",
    "\n",
    "birjacom.to_excel('birjacom.xlsx', engine='xlsxwriter')"
   ]
  },
  {
   "cell_type": "markdown",
   "id": "63b79da8-9190-4b74-a781-9511c241f098",
   "metadata": {},
   "source": [
    "## boss.az"
   ]
  },
  {
   "cell_type": "code",
   "execution_count": 53,
   "id": "66c73b87-2b3a-405d-8d82-fae643d4035d",
   "metadata": {},
   "outputs": [],
   "source": [
    "import pandas as pd\n",
    "boss = pd.read_csv('boss.csv')\n",
    "boss['length'] = boss['phone'].str.len().sort_values(ascending=False)\n",
    "boss.dropna(subset=['phone'], inplace=True)\n",
    "# boss['phone_cleaned'] = boss['phone'].str.replace(r'\\D', '', regex=True)\n",
    "boss_sorted = boss.sort_values(by='length', ascending=False)\n",
    "\n",
    "# boss_sorted.to_excel('boss_sorted.xlsx')\n",
    "\n",
    "boss_sorted = pd.read_excel('boss_sorted.xlsx')\n",
    "boss_sorted['phone_cleaned'] = boss_sorted['phone'].str.replace(r'\\D', '', regex=True)\n",
    "boss_sorted.to_excel('boss.xlsx', engine='xlsxwriter')"
   ]
  },
  {
   "cell_type": "markdown",
   "id": "d2df6829-5b8b-40d8-bae6-254ee9c71978",
   "metadata": {},
   "source": [
    "## aratap.az"
   ]
  },
  {
   "cell_type": "code",
   "execution_count": 61,
   "id": "220e782d-c34a-408f-95c5-550b0396a379",
   "metadata": {},
   "outputs": [],
   "source": [
    "import pandas as pd\n",
    "aratap = pd.read_excel('aratap.xlsx')\n",
    "aratap['phone_cleaned'] = aratap['Phone Number'].str.replace(r'\\D', '', regex=True).str[-9:]\n",
    "aratap.to_excel('aratapAz.xlsx', engine='xlsxwriter')"
   ]
  },
  {
   "cell_type": "markdown",
   "id": "5660c8d4-7b0d-4a2e-a4da-b28221f5ca21",
   "metadata": {},
   "source": [
    "## birja-in.az"
   ]
  },
  {
   "cell_type": "code",
   "execution_count": 64,
   "id": "16b6ed44-17ec-4ccb-af49-04c0e349b4b6",
   "metadata": {},
   "outputs": [],
   "source": [
    "import pandas as pd\n",
    "birjaInAz = pd.read_excel('birjaInAz.xlsx')\n",
    "birjaInAz['phone_cleaned'] = birjaInAz['phone'].str.replace(r'\\D', '', regex=True).str[-9:]\n",
    "birjaInAz.to_excel('birja-inAz.xlsx', engine='xlsxwriter')"
   ]
  },
  {
   "cell_type": "code",
   "execution_count": null,
   "id": "fca4e1a4-ad40-449a-a572-adf8f7f4d30e",
   "metadata": {},
   "outputs": [],
   "source": []
  }
 ],
 "metadata": {
  "kernelspec": {
   "display_name": "Python 3 (ipykernel)",
   "language": "python",
   "name": "python3"
  },
  "language_info": {
   "codemirror_mode": {
    "name": "ipython",
    "version": 3
   },
   "file_extension": ".py",
   "mimetype": "text/x-python",
   "name": "python",
   "nbconvert_exporter": "python",
   "pygments_lexer": "ipython3",
   "version": "3.10.9"
  }
 },
 "nbformat": 4,
 "nbformat_minor": 5
}
