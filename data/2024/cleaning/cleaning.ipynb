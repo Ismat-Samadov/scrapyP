{
 "cells": [
  {
   "cell_type": "markdown",
   "id": "002598af-2df4-4381-916a-7a3b7b9e4118",
   "metadata": {},
   "source": [
    "## arenda.az"
   ]
  },
  {
   "cell_type": "code",
   "execution_count": null,
   "id": "0844de00-31eb-4ca7-b008-ba258e2d582d",
   "metadata": {},
   "outputs": [],
   "source": [
    "# import pandas as pd\n",
    "# arenda = pd.read_csv('arendaAz.csv')\n",
    "# arenda['length'] = arenda['phone'].str.len().sort_values(ascending=False)\n",
    "# arenda = arenda.sort_values(by='length', ascending=False)\n",
    "# arenda['phone_cleaned'] = arenda['phone'].str.split(',')\n",
    "# arenda = arenda.explode('phone_cleaned', ignore_index=True)\n",
    "# arenda['phone_cleaned'] = arenda['phone_cleaned'].str.replace(r'\\D', '', regex=True).str[-9:]\n",
    "# arenda.dropna(subset=['phone'], inplace=True)\n",
    "# arenda.to_excel('arenda.xlsx', engine='xlsxwriter')"
   ]
  },
  {
   "cell_type": "markdown",
   "id": "374c17d5-405d-4bc3-bff4-13adb8b2ff87",
   "metadata": {},
   "source": [
    "## birja.com"
   ]
  },
  {
   "cell_type": "code",
   "execution_count": 28,
   "id": "ce88a786-21ac-4b6e-90f2-e5aae9d7d7da",
   "metadata": {},
   "outputs": [],
   "source": [
    "# import pandas as pd\n",
    "# birjaCom = pd.read_csv('birjaCom.csv')\n",
    "# birjaCom['length'] = birjaCom['Phone'].str.len().sort_values(ascending=False)\n",
    "# birjaCom = birjaCom.sort_values(by='length', ascending=False)\n",
    "# birjaCom['phone_cleaned'] = birjaCom['Phone'].str.replace(r'\\D', '', regex=True).str[-9:]\n",
    "# birjaCom.dropna(subset=['phone_cleaned'],inplace=True)\n",
    "# birjaCom.to_excel('birjaCom.xlsx', engine='xlsxwriter')"
   ]
  },
  {
   "cell_type": "markdown",
   "id": "c3ece039-b576-4f27-84c6-44245ac68e1d",
   "metadata": {},
   "source": [
    "## birja-in.az"
   ]
  },
  {
   "cell_type": "code",
   "execution_count": 27,
   "id": "dfd2f659-1fbe-49d7-8c2d-cf269aa4569d",
   "metadata": {},
   "outputs": [],
   "source": [
    "# import pandas as pd\n",
    "# pd.set_option('display.max_columns', None)\n",
    "# pd.set_option('display.max_colwidth', None)\n",
    "# BirjaInAz = pd.read_csv('BirjaInAz.csv')\n",
    "# BirjaInAz['length'] = BirjaInAz['phone'].str.len().sort_values(ascending=False)\n",
    "# BirjaInAz = BirjaInAz.sort_values(by='length', ascending=False)\n",
    "# BirjaInAz['phone_cleaned'] = BirjaInAz['phone'].str.split(',')\n",
    "# BirjaInAz = BirjaInAz.explode('phone_cleaned', ignore_index=True)\n",
    "# BirjaInAz['phone_cleaned'] = BirjaInAz['phone_cleaned'].str.replace(r'\\D', '', regex=True).str[-9:]\n",
    "# BirjaInAz.dropna(subset=['phone_cleaned'], inplace=True)\n",
    "# BirjaInAz.reset_index(drop=True, inplace=True)\n",
    "# BirjaInAz.to_excel('BirjaInAz.xlsx', engine='xlsxwriter', index=False)\n",
    "# BirjaInAz"
   ]
  },
  {
   "cell_type": "markdown",
   "id": "e490a913-73fa-48a8-9306-5dcb86bd5fa3",
   "metadata": {},
   "source": [
    "## bul.az"
   ]
  },
  {
   "cell_type": "code",
   "execution_count": 34,
   "id": "38ef4473-c3f1-444a-8507-6fe5bff0aacc",
   "metadata": {},
   "outputs": [],
   "source": [
    "# import pandas as pd\n",
    "# pd.set_option('display.max_columns', None)\n",
    "# pd.set_option('display.max_colwidth', None)\n",
    "# bulAz = pd.read_csv('bulAz.csv')\n",
    "# bulAz['length'] = bulAz['phone'].str.len().sort_values(ascending=False)\n",
    "# bulAz = bulAz.sort_values(by='length', ascending=False)\n",
    "# bulAz['phone_cleaned'] = bulAz['phone'].str.replace(r'\\D', '', regex=True).str[-9:]\n",
    "# bulAz.dropna(subset=['phone'], inplace=True)\n",
    "# bulAz.reset_index(drop=True, inplace=True)\n",
    "# bulAz.to_excel('bulAz.xlsx', engine='xlsxwriter', index=False)\n",
    "# bulAz"
   ]
  },
  {
   "cell_type": "markdown",
   "id": "79aeb405-92de-4772-b1e8-1bb65b385db3",
   "metadata": {},
   "source": [
    "## emlak.az"
   ]
  },
  {
   "cell_type": "code",
   "execution_count": 44,
   "id": "6eec4423-7aec-4469-a089-e8ab19eb02db",
   "metadata": {},
   "outputs": [],
   "source": [
    "# import pandas as pd\n",
    "# pd.set_option('display.max_columns', None)\n",
    "# pd.set_option('display.max_colwidth', None)\n",
    "# emlakAz = pd.read_csv('emlakAz.csv')\n",
    "# emlakAz['length'] = emlakAz['phone_numbers'].str.len().sort_values(ascending=False)\n",
    "# emlakAz = emlakAz.sort_values(by='length', ascending=False)\n",
    "# emlakAz['phone_cleaned'] = emlakAz['phone_numbers'].str.split(',')\n",
    "# emlakAz = emlakAz.explode('phone_cleaned', ignore_index=True)\n",
    "# emlakAz['phone_cleaned'] = emlakAz['phone_cleaned'].str.replace(r'\\D', '', regex=True).str[-9:]\n",
    "# emlakAz.dropna(subset=['phone_cleaned'], inplace=True)\n",
    "# emlakAz.reset_index(drop=True, inplace=True)\n",
    "# emlakAz.to_excel('emlakAz.xlsx', engine='xlsxwriter', index=False)\n",
    "# emlakAz"
   ]
  },
  {
   "cell_type": "markdown",
   "id": "554d564e-fb5b-4560-a70b-3595e356801d",
   "metadata": {},
   "source": [
    "## h2h.az"
   ]
  },
  {
   "cell_type": "code",
   "execution_count": 87,
   "id": "393d8372-b3e1-463c-a51b-6899a5778569",
   "metadata": {},
   "outputs": [],
   "source": [
    "# import pandas as pd\n",
    "# pd.set_option('display.max_columns', None)\n",
    "# pd.set_option('display.max_colwidth', None)\n",
    "# h2hAz = pd.read_csv('h2hAz.csv')\n",
    "# h2hAz['phone_cleaned'] = h2hAz['phone'].astype(str)\n",
    "# h2hAz['phone_cleaned'] = h2hAz['phone_cleaned'].str.replace('.0', '', regex=False).str[-9:]\n",
    "# h2hAz.to_excel('h2hAz.xlsx', engine='xlsxwriter', index=False)\n",
    "# h2hAz"
   ]
  },
  {
   "cell_type": "markdown",
   "id": "ccba0767-b08b-4164-b99e-c3015738df44",
   "metadata": {},
   "source": [
    "## ipoteka.az"
   ]
  },
  {
   "cell_type": "code",
   "execution_count": 6,
   "id": "a3fe2001-8399-4ad0-a527-889f1b159e27",
   "metadata": {},
   "outputs": [],
   "source": [
    "# import pandas as pd\n",
    "# pd.set_option('display.max_columns', None)\n",
    "# pd.set_option('display.max_colwidth', None)\n",
    "# ipotekaAz = pd.read_csv('ipotekaAz.csv')\n",
    "# ipotekaAz['length'] = ipotekaAz['phone_number'].str.len().sort_values(ascending=False)\n",
    "# ipotekaAz = ipotekaAz.sort_values(by='length', ascending=False)\n",
    "# ipotekaAz['phone_cleaned'] = ipotekaAz['phone_number'].str.replace(r'\\D', '', regex=True).str[-9:]\n",
    "# ipotekaAz.dropna(subset=['phone_cleaned'], inplace=True)\n",
    "# ipotekaAz.reset_index(drop=True, inplace=True)\n",
    "# ipotekaAz.to_excel('ipotekaAz.xlsx', engine='xlsxwriter', index=False)\n",
    "# ipotekaAz"
   ]
  },
  {
   "cell_type": "markdown",
   "id": "5c440a77-4d56-4c25-b89f-ad9b89cba059",
   "metadata": {},
   "source": [
    "## qarabazar.az"
   ]
  },
  {
   "cell_type": "code",
   "execution_count": 17,
   "id": "956ba301-a385-4eda-854a-abf365fa7f38",
   "metadata": {},
   "outputs": [],
   "source": [
    "# import pandas as pd\n",
    "# pd.set_option('display.max_columns', None)\n",
    "# pd.set_option('display.max_colwidth', None)\n",
    "# qarabazarAz = pd.read_csv('qarabazarAz.csv')\n",
    "# qarabazarAz['length'] = qarabazarAz['number'].str.len().sort_values(ascending=False)\n",
    "# qarabazarAz = qarabazarAz.sort_values(by='length', ascending=False)\n",
    "# qarabazarAz['phone_cleaned'] = qarabazarAz['number'].str.split(' ')\n",
    "# qarabazarAz = qarabazarAz.explode('phone_cleaned', ignore_index=True)\n",
    "# qarabazarAz['phone_cleaned'] = qarabazarAz['phone_cleaned'].str.replace(r'\\D', '', regex=True).str[-9:]\n",
    "# qarabazarAz.dropna(subset=['phone_cleaned'], inplace=True)\n",
    "# qarabazarAz.reset_index(drop=True, inplace=True)\n",
    "# qarabazarAz.to_excel('qarabazarAz.xlsx', engine='xlsxwriter', index=False)\n",
    "# qarabazarAz"
   ]
  },
  {
   "cell_type": "markdown",
   "id": "a948efcb-9f7c-4cff-81d9-106badbd0c66",
   "metadata": {},
   "source": [
    "## rahatemlak.az"
   ]
  },
  {
   "cell_type": "code",
   "execution_count": 23,
   "id": "373b1fa5-fb35-4401-aff6-6680a559396a",
   "metadata": {},
   "outputs": [],
   "source": [
    "# import pandas as pd\n",
    "# pd.set_option('display.max_columns', None)\n",
    "# pd.set_option('display.max_colwidth', None)\n",
    "# rahatemlakAz = pd.read_csv('rahatemlakAz.csv')\n",
    "# rahatemlakAz['length'] = rahatemlakAz['phone'].str.len().sort_values(ascending=False)\n",
    "# rahatemlakAz = rahatemlakAz.sort_values(by='length', ascending=False)\n",
    "# rahatemlakAz['phone_cleaned'] = rahatemlakAz['phone'].str.replace(r'\\D', '', regex=True).str[-9:]\n",
    "# rahatemlakAz.dropna(subset=['phone_cleaned'], inplace=True)\n",
    "# rahatemlakAz.reset_index(drop=True, inplace=True)\n",
    "# rahatemlakAz.to_excel('rahatemlakAz.xlsx', engine='xlsxwriter', index=False)\n",
    "# rahatemlakAz"
   ]
  },
  {
   "cell_type": "markdown",
   "id": "51a7fea1-750c-4611-843b-efc9dba23761",
   "metadata": {},
   "source": [
    "## ucuztap.az"
   ]
  },
  {
   "cell_type": "code",
   "execution_count": 32,
   "id": "eb5c2833-a8c6-4a01-ae82-55191541f6d0",
   "metadata": {},
   "outputs": [],
   "source": [
    "# import pandas as pd\n",
    "# pd.set_option('display.max_columns', None)\n",
    "# pd.set_option('display.max_colwidth', None)\n",
    "# ucuztapAz = pd.read_csv('ucuztapAz.csv')\n",
    "# ucuztapAz['length'] = ucuztapAz['phone'].str.len().sort_values(ascending=False)\n",
    "# ucuztapAz = ucuztapAz.sort_values(by='length', ascending=False)\n",
    "# ucuztapAz['phone_cleaned'] = ucuztapAz['phone'].str.split(',')\n",
    "# ucuztapAz = ucuztapAz.explode('phone_cleaned', ignore_index=True)\n",
    "# ucuztapAz['phone_cleaned'] = ucuztapAz['phone_cleaned'].str.replace(r'\\D', '', regex=True).str[-9:]\n",
    "# ucuztapAz.dropna(subset=['phone'], inplace=True)\n",
    "# ucuztapAz.reset_index(drop=True, inplace=True)\n",
    "# ucuztapAz.to_excel('ucuztapAz.xlsx', engine='xlsxwriter', index=False)\n",
    "# ucuztapAz"
   ]
  },
  {
   "cell_type": "markdown",
   "id": "97107e46-7df7-4bb4-8d1b-9c6fb321b395",
   "metadata": {},
   "source": [
    "## vipemlak.az"
   ]
  },
  {
   "cell_type": "code",
   "execution_count": 43,
   "id": "c9fa3539-4f99-4d98-8473-bf401025e2bd",
   "metadata": {},
   "outputs": [],
   "source": [
    "# import pandas as pd\n",
    "# pd.set_option('display.max_columns', None)\n",
    "# pd.set_option('display.max_colwidth', None)\n",
    "# vipemlakAz = pd.read_csv('vipemlakAz.csv')\n",
    "# vipemlakAz['length'] = vipemlakAz['phone_number'].str.len().sort_values(ascending=False)\n",
    "# vipemlakAz = vipemlakAz.sort_values(by='length', ascending=False)\n",
    "# vipemlakAz['phone_cleaned'] = vipemlakAz['phone_number'].str.split(',')\n",
    "# vipemlakAz = vipemlakAz.explode('phone_cleaned', ignore_index=True)\n",
    "# vipemlakAz['phone_cleaned'] = vipemlakAz['phone_cleaned'].str.replace(r'\\D', '', regex=True).str[-9:]\n",
    "# vipemlakAz.dropna(subset=['phone_cleaned'], inplace=True)\n",
    "# vipemlakAz.reset_index(drop=True, inplace=True)\n",
    "# vipemlakAz.to_excel('vipemlakAz.xlsx', engine='xlsxwriter', index=False)\n",
    "# vipemlakAz"
   ]
  },
  {
   "cell_type": "markdown",
   "id": "9fde244f-a3f9-484c-aff6-fe49127aa13a",
   "metadata": {},
   "source": [
    "## yeniemlak.az"
   ]
  },
  {
   "cell_type": "code",
   "execution_count": 52,
   "id": "01c5df60-56dc-4082-8e58-86f34b1bd0b4",
   "metadata": {},
   "outputs": [],
   "source": [
    "# import pandas as pd\n",
    "# pd.set_option('display.max_columns', None)\n",
    "# pd.set_option('display.max_colwidth', None)\n",
    "# yeniemlakAz = pd.read_csv('yeniemlakAz.csv')\n",
    "# yeniemlakAz['length'] = yeniemlakAz['owner_number'].str.len().sort_values(ascending=False)\n",
    "# yeniemlakAz = yeniemlakAz.sort_values(by='length', ascending=False)\n",
    "# yeniemlakAz['phone_cleaned'] = yeniemlakAz['owner_number'].str.split(',')\n",
    "# yeniemlakAz = yeniemlakAz.explode('phone_cleaned', ignore_index=True)\n",
    "# yeniemlakAz['phone_cleaned'] = yeniemlakAz['phone_cleaned'].str.replace(r'\\D', '', regex=True).str[-9:]\n",
    "# yeniemlakAz.dropna(subset=['phone_cleaned'], inplace=True)\n",
    "# yeniemlakAz.reset_index(drop=True, inplace=True)\n",
    "# yeniemlakAz.to_excel('yeniemlakAz.xlsx', engine='xlsxwriter', index=False)\n",
    "# yeniemlakAz"
   ]
  }
 ],
 "metadata": {
  "kernelspec": {
   "display_name": "Python 3 (ipykernel)",
   "language": "python",
   "name": "python3"
  },
  "language_info": {
   "codemirror_mode": {
    "name": "ipython",
    "version": 3
   },
   "file_extension": ".py",
   "mimetype": "text/x-python",
   "name": "python",
   "nbconvert_exporter": "python",
   "pygments_lexer": "ipython3",
   "version": "3.10.9"
  }
 },
 "nbformat": 4,
 "nbformat_minor": 5
}
